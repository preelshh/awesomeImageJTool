{
 "cells": [
  {
   "cell_type": "markdown",
   "id": "57cac39f-f1c5-4cae-8b1e-d277131dd097",
   "metadata": {},
   "source": [
    "## Main Function"
   ]
  },
  {
   "cell_type": "code",
   "execution_count": 1,
   "id": "cc84c738-2367-4e8d-b5d6-c2541a496ea3",
   "metadata": {},
   "outputs": [],
   "source": [
    "import pandas as pd\n",
    "import matplotlib.pyplot as plt\n",
    "from scipy.stats import zscore"
   ]
  },
  {
   "cell_type": "code",
   "execution_count": 2,
   "id": "532ab62d-81f5-4eac-9316-7d75f5651aec",
   "metadata": {},
   "outputs": [],
   "source": [
    "\n",
    "def subset_and_remove_outliers(df: pd.DataFrame, indices: list) -> pd.DataFrame:\n",
    "    \"\"\"\n",
    "    1. Subset df by the given list of indices.\n",
    "    2. Remove rows where *any* numeric column is an outlier \n",
    "       (outside Q1 - 1.5*IQR or Q3 + 1.5*IQR).\n",
    "    \n",
    "    Parameters\n",
    "    ----------\n",
    "    df : pd.DataFrame\n",
    "        Original DataFrame.\n",
    "    indices : list\n",
    "        List of row indices to keep.\n",
    "    \n",
    "    Returns\n",
    "    -------\n",
    "    pd.DataFrame\n",
    "        Subsetted & outlier‑filtered DataFrame.\n",
    "    \"\"\"\n",
    "    # 1) Subset\n",
    "    df_sub = df.loc[indices].copy()\n",
    "    \n",
    "    # 2) Compute Q1, Q3, and IQR for each numeric column\n",
    "    Q1 = df_sub.quantile(0.25)\n",
    "    Q3 = df_sub.quantile(0.75)\n",
    "    IQR = Q3 - Q1\n",
    "    \n",
    "    # 3) Build mask: keep rows where *no* numeric value is an outlier\n",
    "    #    (i.e. for all columns, value is within [Q1 - 1.5*IQR, Q3 + 1.5*IQR])\n",
    "    mask = ~(\n",
    "        (df_sub < (Q1 - 1.5 * IQR)) |\n",
    "        (df_sub > (Q3 + 1.5 * IQR))\n",
    "    ).any(axis=1)\n",
    "    \n",
    "    return df_sub[mask]\n"
   ]
  },
  {
   "cell_type": "code",
   "execution_count": 3,
   "id": "64eae4b8-750c-48de-8c33-89634e6df947",
   "metadata": {},
   "outputs": [],
   "source": [
    "def find_common_duplicates(*lists):\n",
    "    return list(set(lists[0]).intersection(*lists[1:]))\n"
   ]
  },
  {
   "cell_type": "code",
   "execution_count": 4,
   "id": "cdb542d7-36db-4dfa-8308-8d3311c75c70",
   "metadata": {},
   "outputs": [],
   "source": [
    "\n",
    "\n",
    "def filtered_pixel_count_histogram(df, column='PixelCount', z_thresh=3.0):\n",
    "    \"\"\"\n",
    "    Filters out outliers from a specific column (default: 'PixelCount') using z-score,\n",
    "    and plots a detailed histogram of the remaining values.\n",
    "    \"\"\"\n",
    "    if column not in df.columns:\n",
    "        raise ValueError(f\"Column '{column}' not found in DataFrame.\")\n",
    "    \n",
    "    data = df[column].dropna()\n",
    "    z_scores = zscore(data)\n",
    "    filtered = data[(abs(z_scores) < z_thresh)]\n",
    "\n",
    "    count = filtered.size\n",
    "    mean = filtered.mean()\n",
    "    median = filtered.median()\n",
    "    std = filtered.std()\n",
    "    min_val = filtered.min()\n",
    "    max_val = filtered.max()\n",
    "\n",
    "    plt.figure(figsize=(10, 6))\n",
    "    plt.hist(filtered, bins='auto', edgecolor='black')\n",
    "    plt.axvline(mean, color='red', linestyle='dashed', linewidth=1, label=f'Mean: {mean:.2f}')\n",
    "    plt.axvline(median, color='green', linestyle='dotted', linewidth=1, label=f'Median: {median:.2f}')\n",
    "    plt.title(f'Histogram of {column} (Outliers Removed, n={count})')\n",
    "    plt.xlabel(column)\n",
    "    plt.ylabel('Frequency')\n",
    "    plt.legend()\n",
    "\n",
    "    stats_text = (\n",
    "        f\"Count = {count}\\n\"\n",
    "        f\"Mean = {mean:.2f}\\n\"\n",
    "        f\"Median = {median:.2f}\\n\"\n",
    "        f\"Std = {std:.2f}\\n\"\n",
    "        f\"Min = {min_val:.2f}\\n\"\n",
    "        f\"Max = {max_val:.2f}\"\n",
    "    )\n",
    "    plt.gcf().text(0.95, 0.75, stats_text, fontsize=8, va='top', ha='right')\n",
    "    plt.tight_layout()\n",
    "    plt.show()\n",
    "\n",
    "# Example usage:\n",
    "# filtered_pixel_count_histogram(df_1_A_final)\n"
   ]
  },
  {
   "cell_type": "code",
   "execution_count": 5,
   "id": "a139df84-5cea-4f2d-94e9-23aeea1176b9",
   "metadata": {},
   "outputs": [],
   "source": [
    "def drop_outliers(df, z_thresh=3.0):\n",
    "    \"\"\"\n",
    "    Removes rows from the DataFrame where any numeric column has a z-score > z_thresh.\n",
    "    \"\"\"\n",
    "    from scipy.stats import zscore\n",
    "\n",
    "    numeric_cols = df.select_dtypes(include='number').columns\n",
    "    z_scores = df[numeric_cols].apply(zscore)\n",
    "    mask = (z_scores.abs() < z_thresh).all(axis=1)\n",
    "    return df[mask]\n",
    "\n",
    "# Apply to df_1_A_final\n",
    "\n",
    "# import ace_tools as tools; tools.display_dataframe_to_user(name=\"Filtered DataFrame\", dataframe=df_1_A_final_no_outliers)\n"
   ]
  },
  {
   "cell_type": "code",
   "execution_count": 6,
   "id": "26515f19-27be-4cc9-ba86-e596412ba733",
   "metadata": {},
   "outputs": [],
   "source": [
    "\n",
    "\n",
    "def thorough_histogram(df):\n",
    "    \"\"\"\n",
    "    Generates a detailed histogram for each numeric column in the DataFrame.\n",
    "    Includes annotated statistics: count, mean, median, std, min, max.\n",
    "    \"\"\"\n",
    "    numeric_cols = df.select_dtypes(include='number').columns\n",
    "\n",
    "    for col in numeric_cols:\n",
    "        data = df[col].dropna()\n",
    "        count = data.size\n",
    "        mean = data.mean()\n",
    "        median = data.median()\n",
    "        std = data.std()\n",
    "        min_val = data.min()\n",
    "        max_val = data.max()\n",
    "\n",
    "        plt.figure(figsize=(10, 6))\n",
    "        plt.hist(data, bins='auto', edgecolor='black')\n",
    "        plt.axvline(mean, color='red', linestyle='dashed', linewidth=1, label=f'Mean: {mean:.2f}')\n",
    "        plt.axvline(median, color='green', linestyle='dotted', linewidth=1, label=f'Median: {median:.2f}')\n",
    "        plt.title(f'Histogram of {col} (n={count})')\n",
    "        plt.xlabel(col)\n",
    "        plt.ylabel('Frequency')\n",
    "        plt.legend()\n",
    "\n",
    "        stats_text = (\n",
    "            f\"Count = {count}\\n\"\n",
    "            f\"Mean = {mean:.2f}\\n\"\n",
    "            f\"Median = {median:.2f}\\n\"\n",
    "            f\"Std = {std:.2f}\\n\"\n",
    "            f\"Min = {min_val:.2f}\\n\"\n",
    "            f\"Max = {max_val:.2f}\"\n",
    "        )\n",
    "        plt.gcf().text(0.95, 0.75, stats_text, fontsize=8, va='top', ha='right')\n",
    "        plt.tight_layout()\n",
    "        plt.show()\n",
    "\n",
    "# Example usage:\n",
    "# thorough_histogram(df_1_A_final)\n"
   ]
  },
  {
   "cell_type": "code",
   "execution_count": 7,
   "id": "a9b76580-d256-4d59-85ed-3e0c8e8939a2",
   "metadata": {},
   "outputs": [],
   "source": [
    "dfA = []\n",
    "dfB = []\n",
    "dfC = []\n",
    "dfC = []"
   ]
  },
  {
   "cell_type": "markdown",
   "id": "6fca734d-8f7b-40ba-b778-d523fb21e074",
   "metadata": {},
   "source": [
    "## scale 1: Extracting B"
   ]
  },
  {
   "cell_type": "code",
   "execution_count": 8,
   "id": "ad3eb3a1-1d8e-4be0-af2d-c3ad4ef273a2",
   "metadata": {},
   "outputs": [],
   "source": [
    "df_1 = pd.read_csv(r\"C:\\Users\\priya\\Downloads\\Scale1_MorphoLibJv3.csv\")"
   ]
  },
  {
   "cell_type": "code",
   "execution_count": 9,
   "id": "84efdc5d-65f2-46ac-a153-c8c33f6077b5",
   "metadata": {},
   "outputs": [],
   "source": [
    "selected_B_from_1 = [39, 384, 408, 598, 812, 1232, 2223, 2216, 1664, 1786, 1463, 1291, 1197, 963, 398, 318, 296, 341, 452, 922, 1226, 1664, 1786, 910, 1153, 1508, 1373, 1306, 1264, 1173, 1044, 1036, 949, 951, 1021, 955, 822, 678, 562, 624, 561, 478, 442, 501, 1170, 1790, 1833, 1908, 2297, 2271, 2276, 2254,  1597, 931, 828, 691, 744, 495, 412, 142, 198, 284, 326] #reconsider this one a bit later one"
   ]
  },
  {
   "cell_type": "code",
   "execution_count": 10,
   "id": "e778e2fd-3f2d-4877-b759-4d87a7249ae7",
   "metadata": {},
   "outputs": [],
   "source": [
    "df_B1 = df_1.iloc[selected_B_from_1]"
   ]
  },
  {
   "cell_type": "code",
   "execution_count": null,
   "id": "cd9b86cb-bd2f-4365-b39a-4b1c30efd15e",
   "metadata": {},
   "outputs": [],
   "source": []
  },
  {
   "cell_type": "markdown",
   "id": "9e9333d8-8826-41ec-b70b-59fcb4738511",
   "metadata": {},
   "source": [
    "## scale 1: Extracting A"
   ]
  },
  {
   "cell_type": "code",
   "execution_count": 11,
   "id": "2c31a4b8-9d1f-4ffc-8012-1ad7d6f4623c",
   "metadata": {},
   "outputs": [],
   "source": [
    "df_1_A = pd.read_csv(r\"C:\\Users\\priya\\Downloads\\Scale1_forA.csv\")"
   ]
  },
  {
   "cell_type": "code",
   "execution_count": 12,
   "id": "9133d97f-0f34-47df-8b24-4cfcc1e7ae66",
   "metadata": {},
   "outputs": [],
   "source": [
    "drop_from_A = [804, 100, 420, 843, 1778, 1240, 2223, 3096, 3392, 3837, 3057, 4491, 4294, 4374, 6212, 6126, 6008, 6178, 5876, 5683, 5131, 4956, 4741, 4512, 4374,4714, 4512, \n",
    "               4469, 4342, 4176, 3784, 2908, 3442, 3261, 3136, 2846, 2845, 2449, 2073, 1914, 1727, 1470,\n",
    "              1537, 1727, 1400, 1418, 1454, 843, 1168, 916, 448, 722, 335, \n",
    "              91, 202, 211, 369, 525, 2449, 2845, 2908, 2181, 2482, 2181, 3784,\n",
    "              2846, 2650, 3136, 2938, 4196, 4400,4294, 4374, 4741, 6126, 6178,\n",
    "              5876, 5683, 4956, 4848, 5045, 6618, 6000, 6442, 6234, 5647,\n",
    "              5609, 5456, 5492, 615, 1197, 1450, 897, 1302, 2688, 2938, 2925, 3265, 3588, 4745, 5155, 4685, 5456, 5547, \n",
    "              6000, 6234, 6442, 2502, 2506, 66, 158, 227, 746, 545, 1209, 872, 154, 1285, 1158, 1380, \n",
    "               947, 227, 158, 746,45, 223, 2320, 2285, 2941, 3174, 3691, 3520, 3837, 3719, 4158, 4430, 4787, 5101, 5494, 5628, \n",
    "                5736, 6181, 6341, 639, 6503, 6621, 3172, 3243, 3005, 1130, 1588, 1335, 1257, 1576, 1573, 2613, \n",
    "                2707, 2568, 2856, 3189, 3068, 2841, 2704, 2705, 3814, 4162, 4573, 3819, 4158, 4330, 5029, \n",
    "                5187, 5690, 5652, 6296, 6372, 6503, 5988, 6594, 6579,5690, 6472, 6418, 5590, 4158, 4417, 4100, 3584, 3315, 3243, 3172, 3005, 2297, 2271, 2276, 2254, 2287,\n",
    "                2295, 2254, 2219, 2241, 2287, 2118, 2124, 2109, 2091, 2082, 2058, 2024, 1974, 1967, 1963, 1957, 1950, 1946, 1937, 1932, 1898, 1895, 1877, 1868, 1873, 1852, \n",
    "1812, 1831, 1809, 1783, 1794, 1774, 1753, 1727, 1679, 1655, 1597, 1565, 1547, 1565, 1498, 1523, 1490, 1459, 1208, 1268, 1227, 1174, 1200, 1123, 1074, 987, 989, 952, 853, 744, 666, 632, 680, 664, 577, 551, 520, 533, 518,\n",
    "                436, 367, 527, 678, 497, 279, 335, 415, 14, 31, 17, 73, 130, 152, 153, 198, 326, 325, 376, 264, 153, 152, 130, 73, 691, 828, 931, 881, 284, 407, 264, 142, 62, 303\n",
    "              ]\n",
    "# check 4714,  2845, 2449, \n",
    "# 722\n",
    "\n",
    "drop_from_A = (list(set(drop_from_A)))\n"
   ]
  },
  {
   "cell_type": "code",
   "execution_count": 13,
   "id": "ca4cc802-aa0d-4df0-bf02-2ed9e9ab3764",
   "metadata": {},
   "outputs": [],
   "source": [
    "df_1_A_final = df_1_A.drop(index=drop_from_A)\n"
   ]
  },
  {
   "cell_type": "code",
   "execution_count": 14,
   "id": "c9aec89f-6fea-4a97-af96-ccca05ae19fe",
   "metadata": {},
   "outputs": [],
   "source": [
    "df_1_A_final_no_outliers = drop_outliers(df_1_A_final)"
   ]
  },
  {
   "cell_type": "code",
   "execution_count": 15,
   "id": "73fe27b4-b7cf-434b-9aab-3902c250d1c2",
   "metadata": {},
   "outputs": [
    {
     "data": {
      "image/png": "[encoded data removed]",
      "text/plain": [
       "<Figure size 1000x600 with 1 Axes>"
      ]
     },
     "metadata": {},
     "output_type": "display_data"
    }
   ],
   "source": [
    "filtered_pixel_count_histogram(df_1_A_final)\n"
   ]
  },
  {
   "cell_type": "code",
   "execution_count": 16,
   "id": "d2b3759d-81fb-4c50-b5ae-ef56f2c9430b",
   "metadata": {},
   "outputs": [
    {
     "data": {
      "image/png": "[encoded data removed]",
      "text/plain": [
       "<Figure size 1000x600 with 1 Axes>"
      ]
     },
     "metadata": {},
     "output_type": "display_data"
    }
   ],
   "source": [
    "filtered_pixel_count_histogram(df_1_A_final_no_outliers)\n"
   ]
  },
  {
   "cell_type": "code",
   "execution_count": 17,
   "id": "af5ef4fa-a57a-43fa-9f0d-fade3e01e580",
   "metadata": {},
   "outputs": [
    {
     "data": {
      "text/plain": [
       "6004"
      ]
     },
     "execution_count": 17,
     "metadata": {},
     "output_type": "execute_result"
    }
   ],
   "source": [
    "len(df_1_A_final_no_outliers)"
   ]
  },
  {
   "cell_type": "code",
   "execution_count": 18,
   "id": "ffbc8d10-7508-4bc2-86d7-356debb328ab",
   "metadata": {},
   "outputs": [],
   "source": [
    "df_1_A_final_no_outliers_again = df_1_A_final_no_outliers[df_1_A_final_no_outliers['PixelCount'] > 20]"
   ]
  },
  {
   "cell_type": "code",
   "execution_count": 19,
   "id": "b4f78da0-40cf-4257-9df1-87c6c1bf04a3",
   "metadata": {},
   "outputs": [
    {
     "data": {
      "image/png": "[encoded data removed]",
      "text/plain": [
       "<Figure size 1000x600 with 1 Axes>"
      ]
     },
     "metadata": {},
     "output_type": "display_data"
    }
   ],
   "source": [
    "filtered_pixel_count_histogram(df_1_A_final_no_outliers_again)\n"
   ]
  },
  {
   "cell_type": "code",
   "execution_count": 20,
   "id": "c6faf8b3-658b-4746-9f3c-e6b60edd5787",
   "metadata": {},
   "outputs": [],
   "source": [
    "df_A1 = df_1_A_final_no_outliers_again"
   ]
  },
  {
   "cell_type": "markdown",
   "id": "6259b623-c6cf-4053-898c-ba50109ffc4e",
   "metadata": {},
   "source": [
    "## scale 2"
   ]
  },
  {
   "cell_type": "code",
   "execution_count": 21,
   "id": "ae78b732-3981-419c-b902-0cb24bc82fb9",
   "metadata": {},
   "outputs": [],
   "source": [
    "df2 = pd.read_csv(r\"C:\\Users\\priya\\Downloads\\Scale2_MorphoLibJv2.csv\")"
   ]
  },
  {
   "cell_type": "code",
   "execution_count": 22,
   "id": "9bdf8eb5-ab58-43ce-bb22-f6e201e75921",
   "metadata": {},
   "outputs": [],
   "source": [
    "\n",
    "\n",
    "selected_A_from_2= [ 821, 642, 951, 304, 387, 19, 2101, 3084, 3084, 2732, 2754, 2831, 2852, 2871, 2832, 2311, 2417, 2123, 2125, 2190, \n",
    "                     2147, 2120, 2065, 1931, 1866, 1900, 1890, 1826, 3076, 3177, 3287, 3193, 444, 543, 440, 701, 537, 137, 129, \n",
    "                     1021, 1101, 984, 973, 1196, 1221, 984, 861, 829, 817, 1687, 1942, 2147, 2120, 2190, 1957, 599, 630,  702, 163, 210, 1311, 1367, \n",
    "                     217, 1212, 1224, 1255, 1779, 2409, 2364, 2407, 1676, 1953, 1870, 2157, 2958, 3022, 3099, 3111, 2958, 2407, 2364, 2409, \n",
    "                     2957, 2958, 2947, 3020, 30, 503, 108, 92, 25, 278, 323, 14, 220, 1030, 762, 1110, 1420, 2446, 2702, 2825, 2721, 3188, 3149, 3040\n",
    "                    ]\n",
    "\n",
    "\n",
    "selected_B_from_2 = [845, 707, 915, 1459, 2165, 2218, 2656, 2738, 2838, 402, 368, 245, 310, 751, 814, 1238, 1292, 1254, \n",
    "                     1807, 1722, 1917, 2656, 2674, 2736, 537, 586, 485, 702,  1507, 1380, 1321, 1315, 1219, 1446, 1568, 1559, 1966, 1289, 1321, 1380, 1315,\n",
    "                     1507, 1446, 1568, 1659, 2904, 3015, 2921, 2918, 503, 1216, 2093, 2152, 2203, 2116, 2051, 2243, 2253, 2321, 2394, 2392, 2949, 3155,\n",
    "                     2921, 2949,     \n",
    "                    ]\n",
    "\n",
    "\n",
    "selected_C_from_2 = [2406, 166, 896, 1788, 2042, 2099,  2904, 3015,      ]\n",
    "\n",
    "# Debatable:"
   ]
  },
  {
   "cell_type": "code",
   "execution_count": 23,
   "id": "98d814d9-9965-4dfd-b5a9-a3c017ab23f6",
   "metadata": {},
   "outputs": [
    {
     "data": {
      "text/plain": [
       "[]"
      ]
     },
     "execution_count": 23,
     "metadata": {},
     "output_type": "execute_result"
    }
   ],
   "source": [
    "find_common_duplicates(selected_A_from_2, selected_B_from_2, selected_C_from_2)"
   ]
  },
  {
   "cell_type": "code",
   "execution_count": 24,
   "id": "95b7dcc8-7f41-4e7b-a059-703052565aee",
   "metadata": {},
   "outputs": [
    {
     "data": {
      "text/plain": [
       "65"
      ]
     },
     "execution_count": 24,
     "metadata": {},
     "output_type": "execute_result"
    }
   ],
   "source": [
    "len(selected_B_from_2)"
   ]
  },
  {
   "cell_type": "code",
   "execution_count": 25,
   "id": "ad15abc8-2a5f-4dab-8ea3-303b8af2c45d",
   "metadata": {},
   "outputs": [],
   "source": [
    "df_A2 = subset_and_remove_outliers(df2, selected_A_from_2)\n",
    "df_B2 = subset_and_remove_outliers(df2, selected_B_from_2)\n",
    "df_C2 = subset_and_remove_outliers(df2, selected_C_from_2)"
   ]
  },
  {
   "cell_type": "code",
   "execution_count": 26,
   "id": "6e25be84-6bab-4fd1-90ea-a5538b20b7ac",
   "metadata": {},
   "outputs": [
    {
     "data": {
      "text/plain": [
       "45"
      ]
     },
     "execution_count": 26,
     "metadata": {},
     "output_type": "execute_result"
    }
   ],
   "source": [
    "len(df_B2)"
   ]
  },
  {
   "cell_type": "code",
   "execution_count": null,
   "id": "5c9db8ba-6a52-4f96-b321-ecf06c871789",
   "metadata": {},
   "outputs": [],
   "source": []
  },
  {
   "cell_type": "markdown",
   "id": "b8b97dda-c3bc-4cbe-8a3c-3a6abb4872b7",
   "metadata": {},
   "source": [
    "## scale 3"
   ]
  },
  {
   "cell_type": "code",
   "execution_count": 27,
   "id": "6429d7cd-9413-45fa-b7c8-04282fb323d7",
   "metadata": {},
   "outputs": [],
   "source": [
    "df3 = pd.read_csv(r\"C:\\Users\\priya\\Downloads\\Scale3_MorphoLibJ.csv\")"
   ]
  },
  {
   "cell_type": "code",
   "execution_count": null,
   "id": "fceed3a1-1ef8-4468-9a1d-2e0906f21785",
   "metadata": {},
   "outputs": [],
   "source": []
  },
  {
   "cell_type": "code",
   "execution_count": 28,
   "id": "3a7800f5-03ea-446d-88e5-2ff9fc08673f",
   "metadata": {},
   "outputs": [],
   "source": [
    "\n",
    "\n",
    "selected_A_from_3 = [664, 124, 191, 387, 374, 418, 95, 475, 387, 634, 1212,  925, 1420,  1766, 1728, 1504, 1424, 1889, 1942, 2015, 2101, 2115,\n",
    "                     2198, 2335, 2214, 2334, 2395, 2065, 2529, 2494, 2625, 2640, 2747, 2602, 2918, 2880, 2639, 2928, 9, 68, 103, 391, 293, \n",
    "                     882, 728, 785, 416, 97, 121, 64, 446, 455, 380, 802, 570, 134, 446, 455, 654, 1040, 2429, 2639, 1939, 1778, 1801, 1569, 189, \n",
    "                     621, 722, 264, 157, 143, 109, 44, 1334, 1117, 1161, 722,  1015, 1024, 1396, 1422, 1453 \n",
    "                    ]\n",
    "\n",
    "\n",
    "selected_B_from_3 = [444, 439, 672, 715, 784, 472, 93, 341, 343, 672,\n",
    "                     685, 759, 472, 723, 334, 439, 444, 534,  672, 759, 1073, 1096,\n",
    "                     1088, 930,  1274, 1093, 1679, 1701, 1439, 1526, 1371, 1984, 2073, 1984, 2145,\n",
    "                     2307, 2357, 2316, 2055, 1982, 2434, 2359, 2854, 2854, 2885, 2602, 2646, 2720, \n",
    "                     2737, 2842, 2737, 2667, 2686, 2724, 2429, 2071,  181, 213, 81, 287, 428, 432, 409, 343, 341, 504, 607, 767, \n",
    "                     532, 550, 574, 728, 785, 834, 1042, 1088, 1274, 1104, 1060, 1107, 1274, 1439, 1439, 532, 550, \n",
    "                     944, 1371, 1141, 1317, 1414, 1218, 1181, 750, 742, 785, 728, 511, 585, 1339, 1313, 121, 64, 69, 97, \n",
    "                     585, 1313, 1141, 1036, 1002, 531, 1414, 1326, 876, 1002, 1041, 389, 437, 451, 511, 446, 585, 1003, 2071, 2087, 2276, 1486, 1564, 1526, 1702, 1686, 1649, 1691,\n",
    "                     1702, 1741, 1749, 1852, 1834, 2424, 2747, 1994, 2640, 2624, 2747, 1772, 1963, 2077, 1642, 1600, 1719, 1543, 1470, 1558, 1576, 1624,\n",
    "                     1470, 1908, 1939, 1963, 59, 257, 25, 119, 57, 214, 259, 639,  284, 786, 962, 639, 598, 1136, 962, 1024, 1015, 876, 1026, \n",
    "                     1558, 1576, 951, 1011, 1313, 1026,  639, 1653, 1576, 1558, 962, 1624, 1513, 1399, 1662, 1779, 1379, 41, 44, 43, 119, 1855, 1434, 1640, 1379,\n",
    "                     1640, 1487, 1855, 1662, 2429, 2628, 2765, 2499, 2288, 2100, 2227, 2131, 2331, 2246, 2172, 2135, 2246, 2251, 2806, 2743, 2787, 2804, 2446, 2540, 2496, 2455, 2486, 2296, 2175,\n",
    "                     2155, 2158, 2219, 2029, 2170, 2181, 2178, 2135, 2540, 2540, 2787, 2743, 2804\n",
    "                     \n",
    "                    ]\n",
    "\n",
    "\n",
    "selected_C_from_3 = [764, 559, 811, 833, 715, 1042, 1415, 1486, 2423, \n",
    "                    2434, 2117, 2875, 2072,  2276, 1108, 751, 1326, 431, 1002, 1312, 1003, \n",
    "                     1346, 1312, 437, 451, 2072, 1787,  371, 700, 1380, 1502, 1653, 600, 1380,   765, 2072,   ]\n",
    "\n",
    "# Debatable:"
   ]
  },
  {
   "cell_type": "code",
   "execution_count": 29,
   "id": "d858a99d-9510-4ed9-9d50-6fd8fc2f677f",
   "metadata": {},
   "outputs": [
    {
     "data": {
      "text/plain": [
       "[]"
      ]
     },
     "execution_count": 29,
     "metadata": {},
     "output_type": "execute_result"
    }
   ],
   "source": [
    "find_common_duplicates(selected_A_from_3, selected_B_from_3, selected_C_from_3)"
   ]
  },
  {
   "cell_type": "code",
   "execution_count": 30,
   "id": "5317d022-e782-494c-a568-61d71560c091",
   "metadata": {},
   "outputs": [],
   "source": [
    "df_A3 = subset_and_remove_outliers(df3, selected_A_from_3)\n",
    "df_B3 = subset_and_remove_outliers(df3, selected_B_from_3)\n",
    "df_C3 = subset_and_remove_outliers(df3, selected_C_from_3)"
   ]
  },
  {
   "cell_type": "markdown",
   "id": "f5575f16-1b62-46c8-8584-9013c697bb12",
   "metadata": {},
   "source": [
    "## scale 4"
   ]
  },
  {
   "cell_type": "code",
   "execution_count": 31,
   "id": "518ab3be-7a5b-4d34-a503-2f3808ac733e",
   "metadata": {},
   "outputs": [],
   "source": [
    "df4 = pd.read_csv(r\"C:\\Users\\priya\\Downloads\\Scale4_MorphoLibJ.csv\")"
   ]
  },
  {
   "cell_type": "code",
   "execution_count": 32,
   "id": "61fe5e81-27d8-422a-8cdb-ec71b874976b",
   "metadata": {},
   "outputs": [],
   "source": [
    "\n",
    "\n",
    "selected_A_from_4 = [ 165, 197, 281, 299, 343, 439, 442, 496, 491, 499, 549, 109, 148, 211, 206, 187, 133, 129, 147, 91, 100, 234, 286, 87, 1183, 1804, 711, \n",
    "                     1431, 2560, 2626, 813, 419, 279, 273, 1019, 1334, 1198, 2483, 2341, 2555, 2526, 88, 90, 279, 248, 296, 176, 215, 243, 1035, 1109, \n",
    "                     1119, 1353, 1746, 1363, 2499, 2188, 2277, 2341, 2520, 2269, 2341, 2188, 2151, 2094, 2120, 2154, 43, 205, 237, 212, 506, 21, 1122, 1104,\n",
    "                     637, 897, 814, 684, 676, 668, 1460, 1492, 1894, 1482,  1430, 172, 2483, 2499, 2475, 2528, 256, 2530, 2524, 2475, \n",
    "                     2055, 2073, 2070, 2388, 1769, 2175, 2485, 2499, 2483, 256\n",
    "                     \n",
    "                     \n",
    "                    ]\n",
    "\n",
    "\n",
    "selected_B_from_4 = [ 128, 318, 316, 318, 316, 257, 327, 324, 351, 336, 418, 430, 449, 590, 558, 705, 760, 762, 846, 924, 700, 773, 327, 324, 336, 449, \n",
    "                     430, 547, 700, 773, 467, 487, 368, 1399, 590, 554, 515, 705, 844, 886, 844, 924, 1399, 1451, 1371, 1551, 1547, 1488, 1682, 58, 57, 91, \n",
    "                     96, 188, 213, 199, 418, 705, 762, 792, 886, 1117, 1399, 1387, 1547, 1551, 1915, 1788, 1662, 1646, 1551, 1547, 2042, 2098, 2169,\n",
    "                     2182, 2291, 2280, 2477, 2471, 2582, 321, 411, 365, 377, 397, 474, 653, 731, 576, 574, 827, 881, 1387, 1386, 1230, 1300, 1064, 1255,\n",
    "                     1386, 1230, 1324, 1386, 1789, 1762, 1837, 1848, 1626, 1491, 1522, 1563, 1484, 1937, 1319, 2186, 2170, 2118, 2361, 2230, 2202, 2416,\n",
    "                     2261, 2264, 2314, 2311, 2344, 2436, 2573, 2217, 273, 321, 411, 474, 365, 377, 576, 653, 382, 570, 731, 806, 881, 827, 1319, 1064, 1491, \n",
    "                     1386, 1255, 1144, 1522, 1491, 806, 879, 988, 1035, 1109, 1167, 1121, 1182, 1125, 1214, 1225, 1343, 1212, 1364, 1182, 1412, \n",
    "                     1343, 1501, 1814, 1785, 1874, 1911, 1789, 1837, 1814, 1785, 1848, 1626, 1960, 1364, 1412, 1343, 1225, 1214, 2202, 2230, 2198, 2057, 2198, 2117,\n",
    "                     2202, 2230, 2527, 2486, 2436, 2314, 2264, 2198, 2205, 2068, 2385, 2371, 2519, 2068, 2060, 2371, 2080, 2117, 2198, 2131, 382, 506, 483, 212, 276, \n",
    "                     139, 189, 196, 224, 264, 189, 355, 330, 406, 338, 415, 484, 355, 115, 70, 504, 560, 570, 709, 656, 733, 782,  554, 638, 656, 645, \n",
    "                     570, 709, 835, 993, 889, 1012, 956, 1003, 1090, 1155, 872, 1061, 1135, 1155, 761, 764, 872, 904, 1022, 1062, 1052, 1008, 1046, 1061, 1135, 1155,\n",
    "\n",
    "                     1147, 1412, 1364, 1343, 1501, 1698, 1785, 1814, 1874, 1960, 1956, 1911, 1530, 1397, 1571, 1521, 1479, 1801, 1905, 1691, 1571, 1507, 1905, 1867, 1750, 1507,\n",
    "                     1571, 1523, 2439, 2080, 2117, 2230, 2486, 2527, 2068, 2060, 2519, 2385, 2371, 1905, 1867, 1691, 2061, 2390, 2147, 2135, 2061, 2297,\n",
    "                     2547,  1585, 1630, 1701, 1570, 1579,\n",
    "                    ]\n",
    "\n",
    "\n",
    "selected_C_from_4 = [ 578, 859, 850, 1228, 2332, 1936, 1793, 1611, 1521, 1515, 411, 1228, \n",
    "                     1059, 1411, 2332, 2345, 293, 1059, 1478, 1570, 1585, 1701, 1548, 1526,\n",
    "                     1411, 1521, 1611, 2080, 2345,  2528, 2456, 293, 484, 536, 680,  723, \n",
    "                     1020, 1585, 1630, 1570, 1579, 1707, 1701, 1668, 1478, 1817, 1957, 1742, 1708,\n",
    "                    2345, 1742, 2019, \n",
    "                      2456,  2580, \n",
    "                     \n",
    "                     \n",
    "                    ]\n",
    "\n",
    "selected_D_from_4 = [ 2146, 2453, \n",
    "]\n",
    "\n",
    "# Debatable: 1371"
   ]
  },
  {
   "cell_type": "code",
   "execution_count": 33,
   "id": "1716653c-275a-4049-bf38-a6a96cdc3045",
   "metadata": {},
   "outputs": [
    {
     "data": {
      "text/plain": [
       "[]"
      ]
     },
     "execution_count": 33,
     "metadata": {},
     "output_type": "execute_result"
    }
   ],
   "source": [
    "find_common_duplicates(selected_A_from_4, selected_B_from_4, selected_C_from_4, selected_D_from_4)"
   ]
  },
  {
   "cell_type": "code",
   "execution_count": 34,
   "id": "1fed29d7-5a8b-4620-9d28-9b93eac8ea14",
   "metadata": {},
   "outputs": [],
   "source": [
    "df_A4 = subset_and_remove_outliers(df4, selected_A_from_4)\n",
    "df_B4 = subset_and_remove_outliers(df4, selected_B_from_4)\n",
    "df_C4 = subset_and_remove_outliers(df4, selected_C_from_4)\n",
    "df_D4 = subset_and_remove_outliers(df4, selected_D_from_4)"
   ]
  },
  {
   "cell_type": "markdown",
   "id": "89fafa98-5ce3-4a3b-944a-4ff6d9d793d7",
   "metadata": {},
   "source": [
    "## scale 5"
   ]
  },
  {
   "cell_type": "code",
   "execution_count": 35,
   "id": "a5539146-d39c-4803-b0d6-78bbb15def65",
   "metadata": {},
   "outputs": [],
   "source": [
    "df5 = pd.read_csv(r\"C:\\Users\\priya\\Downloads\\Scale5_MorphoLibJy.csv\")"
   ]
  },
  {
   "cell_type": "code",
   "execution_count": 36,
   "id": "622e3290-79be-4022-9d75-9e82a54608a9",
   "metadata": {},
   "outputs": [],
   "source": [
    "selected_C_from_5 = [35, 25, 34, 121, 97, 106, 89, 104, 29, 61, 121, 97, 106, 89, 104, 141, 205, 234, 363, 455, 428, 382, 484, 519, 651, 641, \n",
    "                     702, 783, 867, 893, 865, 925, 932, 316, 404, 382, 428, 455, 484, 481, 498, 365, 519, 671, 708, 651, 677, 641, 702, 781, 867, 893, 891, 783, 865,\n",
    "                     932, 925, 622, 643, 861, 576, 643, 29, 42, 61, 78, 104, 116, 111, 147, 153, 124, 36, 226,  111, 147, 153, 124, 95, 84, 36, 229, 201, 199, 196,\n",
    "                    254, 295, 287, 305, 367, 365, 458,  429, 622, 643, 374,  893, 865,  925, 913, 953,  36, 84, 16, 43, 83, 94, 110, 126, 124, 158, 158,\n",
    "                    201, 259, 301, 305, 348, 286, 120, 197, 429, 503, 531, 557, 591, 631, 367, 458, 509, 491, 501, 618, 691, 604, 597, \n",
    "                    457, 460, 491, 501, 509, 927, 928, 953, 913, 16, 43, 94, 83, 8, 197, 220, 230, 286, 348, 347, 340, 373, 140, 190, 161, 195, 177, 197, 220, 230, \n",
    "                    286, 348, 340, 347, 373, 597, 604, 480, 457, 491, 509, 746, 881, 892, 691, 618, 495, 530, 533, 442, \n",
    "            \n",
    "]\n",
    "                    \n",
    "\n",
    "selected_D_from_5 = [30, 50, 326, 580, 816, 626, 50, 156, 326,487, 246, 487, 246, 200,\n",
    "                    487, 571, 526, 621, 200, 208, 281, 621, 526, 211\n",
    "                    ]\n",
    "\n",
    "\n",
    "\n",
    "# Debatable: is 31/30 a clump or pellet\n",
    "# 50?"
   ]
  },
  {
   "cell_type": "code",
   "execution_count": 37,
   "id": "4e394fad-4f5e-4efd-a7ba-3903edf39e84",
   "metadata": {},
   "outputs": [
    {
     "data": {
      "text/plain": [
       "[]"
      ]
     },
     "execution_count": 37,
     "metadata": {},
     "output_type": "execute_result"
    }
   ],
   "source": [
    "find_common_duplicates(selected_C_from_5, selected_D_from_5)"
   ]
  },
  {
   "cell_type": "code",
   "execution_count": 38,
   "id": "5a11674f-48e5-4c9c-b93b-ab5afedb30ba",
   "metadata": {},
   "outputs": [],
   "source": [
    "df_C5 = df5.iloc[selected_C_from_5]\n",
    "df_D5 = df5.iloc[selected_D_from_5]"
   ]
  },
  {
   "cell_type": "markdown",
   "id": "bb95008d-d435-4530-8df3-4f3a4979f777",
   "metadata": {},
   "source": [
    "## scale 6"
   ]
  },
  {
   "cell_type": "code",
   "execution_count": 39,
   "id": "f42bc4f1-19f5-43ed-a298-f660c2a84f8c",
   "metadata": {},
   "outputs": [],
   "source": [
    "df6 = pd.read_csv(r\"C:\\Users\\priya\\Downloads\\Scale6_MorphoLib.csv\")"
   ]
  },
  {
   "cell_type": "code",
   "execution_count": 40,
   "id": "d572d230-40de-4313-877c-87137af23565",
   "metadata": {},
   "outputs": [],
   "source": [
    "selected_D_from_6 = [278, 307, 357, 309, 90]"
   ]
  },
  {
   "cell_type": "code",
   "execution_count": 41,
   "id": "7d89f0d2-32c1-4ae4-8687-7aaddb605050",
   "metadata": {},
   "outputs": [],
   "source": [
    "df_D6 = df6.iloc[selected_D_from_6]"
   ]
  },
  {
   "cell_type": "markdown",
   "id": "6fd32c45-9e83-45cd-a343-1fcbfca9f2a4",
   "metadata": {},
   "source": [
    "## concatting"
   ]
  },
  {
   "cell_type": "code",
   "execution_count": 44,
   "id": "674d420b-19fc-4b4f-a8ef-1e9a8b40135d",
   "metadata": {},
   "outputs": [],
   "source": [
    "dfA = pd.concat([df_A1,  df_A2, df_A3, df_A4])\n",
    "dfB = pd.concat([df_B1, df_B2, df_B3, df_B4])\n",
    "dfC = pd.concat([df_C2, df_C3, df_C4, df_C5])\n",
    "dfD = pd.concat([df_D5, df_D6])"
   ]
  },
  {
   "cell_type": "code",
   "execution_count": 46,
   "id": "4b969e53-1244-4a05-a805-75b8d26072bb",
   "metadata": {},
   "outputs": [],
   "source": [
    "import os\n",
    "\n",
    "# Automatically get the user's Downloads folder\n",
    "downloads_path = os.path.join(os.path.expanduser(\"~\"), \"Downloads\")\n",
    "\n",
    "# Save the CSVs to that folder\n",
    "dfA.to_csv(os.path.join(downloads_path, \"dfA724.csv\"), index=False)\n",
    "dfB.to_csv(os.path.join(downloads_path, \"dfB724.csv\"), index=False)\n",
    "dfC.to_csv(os.path.join(downloads_path, \"dfC724.csv\"), index=False)\n",
    "dfD.to_csv(os.path.join(downloads_path, \"dfD724.csv\"), index=False)\n"
   ]
  },
  {
   "cell_type": "code",
   "execution_count": 47,
   "id": "80f77c3c-1250-45e3-8cef-0ffdeedc98c6",
   "metadata": {},
   "outputs": [],
   "source": [
    "dfA.to_csv(\"dfA724.csv\", index=False)\n",
    "dfB.to_csv(\"dfB724.csv\", index=False)\n",
    "dfC.to_csv(\"dfC724.csv\", index=False)\n",
    "dfD.to_csv(\"dfD724.csv\", index=False)\n"
   ]
  },
  {
   "cell_type": "code",
   "execution_count": 48,
   "id": "01e9475a-b1d1-42b0-870d-bb309409f41c",
   "metadata": {},
   "outputs": [
    {
     "data": {
      "text/html": [
       "<div>\n",
       "<style scoped>\n",
       "    .dataframe tbody tr th:only-of-type {\n",
       "        vertical-align: middle;\n",
       "    }\n",
       "\n",
       "    .dataframe tbody tr th {\n",
       "        vertical-align: top;\n",
       "    }\n",
       "\n",
       "    .dataframe thead th {\n",
       "        text-align: right;\n",
       "    }\n",
       "</style>\n",
       "<table border=\"1\" class=\"dataframe\">\n",
       "  <thead>\n",
       "    <tr style=\"text-align: right;\">\n",
       "      <th></th>\n",
       "      <th>Label</th>\n",
       "      <th>PixelCount</th>\n",
       "      <th>Area</th>\n",
       "      <th>Perimeter</th>\n",
       "      <th>Circularity</th>\n",
       "      <th>EulerNumber</th>\n",
       "      <th>Box.X.Min</th>\n",
       "      <th>Box.X.Max</th>\n",
       "      <th>Box.Y.Min</th>\n",
       "      <th>Box.Y.Max</th>\n",
       "      <th>...</th>\n",
       "      <th>OBox.Length</th>\n",
       "      <th>OBox.Width</th>\n",
       "      <th>OBox.Orientation</th>\n",
       "      <th>GeodesicDiameter</th>\n",
       "      <th>Tortuosity</th>\n",
       "      <th>InscrDisc.Center.X</th>\n",
       "      <th>InscrDisc.Center.Y</th>\n",
       "      <th>InscrDisc.Radius</th>\n",
       "      <th>AverageThickness</th>\n",
       "      <th>GeodesicElongation</th>\n",
       "    </tr>\n",
       "  </thead>\n",
       "  <tbody>\n",
       "    <tr>\n",
       "      <th>0</th>\n",
       "      <td>1</td>\n",
       "      <td>64</td>\n",
       "      <td>0.001000</td>\n",
       "      <td>0.165</td>\n",
       "      <td>0.466</td>\n",
       "      <td>1</td>\n",
       "      <td>1.534</td>\n",
       "      <td>1.562</td>\n",
       "      <td>0.000</td>\n",
       "      <td>0.056</td>\n",
       "      <td>...</td>\n",
       "      <td>0.056</td>\n",
       "      <td>0.028</td>\n",
       "      <td>90.000</td>\n",
       "      <td>0.062</td>\n",
       "      <td>0.998</td>\n",
       "      <td>1.546</td>\n",
       "      <td>0.000</td>\n",
       "      <td>0.012</td>\n",
       "      <td>-0.985</td>\n",
       "      <td>2.602</td>\n",
       "    </tr>\n",
       "    <tr>\n",
       "      <th>1</th>\n",
       "      <td>2</td>\n",
       "      <td>75</td>\n",
       "      <td>0.001000</td>\n",
       "      <td>0.176</td>\n",
       "      <td>0.482</td>\n",
       "      <td>1</td>\n",
       "      <td>1.861</td>\n",
       "      <td>1.912</td>\n",
       "      <td>0.000</td>\n",
       "      <td>0.048</td>\n",
       "      <td>...</td>\n",
       "      <td>0.070</td>\n",
       "      <td>0.036</td>\n",
       "      <td>131.634</td>\n",
       "      <td>0.071</td>\n",
       "      <td>1.007</td>\n",
       "      <td>1.880</td>\n",
       "      <td>0.000</td>\n",
       "      <td>0.016</td>\n",
       "      <td>-0.983</td>\n",
       "      <td>2.227</td>\n",
       "    </tr>\n",
       "    <tr>\n",
       "      <th>2</th>\n",
       "      <td>3</td>\n",
       "      <td>23</td>\n",
       "      <td>0.000365</td>\n",
       "      <td>0.090</td>\n",
       "      <td>0.563</td>\n",
       "      <td>1</td>\n",
       "      <td>2.211</td>\n",
       "      <td>2.251</td>\n",
       "      <td>0.000</td>\n",
       "      <td>0.012</td>\n",
       "      <td>...</td>\n",
       "      <td>0.040</td>\n",
       "      <td>0.012</td>\n",
       "      <td>0.000</td>\n",
       "      <td>0.041</td>\n",
       "      <td>1.036</td>\n",
       "      <td>2.227</td>\n",
       "      <td>0.000</td>\n",
       "      <td>0.012</td>\n",
       "      <td>-0.988</td>\n",
       "      <td>1.736</td>\n",
       "    </tr>\n",
       "    <tr>\n",
       "      <th>11</th>\n",
       "      <td>12</td>\n",
       "      <td>71</td>\n",
       "      <td>0.001000</td>\n",
       "      <td>0.151</td>\n",
       "      <td>0.619</td>\n",
       "      <td>1</td>\n",
       "      <td>6.064</td>\n",
       "      <td>6.104</td>\n",
       "      <td>0.000</td>\n",
       "      <td>0.044</td>\n",
       "      <td>...</td>\n",
       "      <td>0.048</td>\n",
       "      <td>0.037</td>\n",
       "      <td>80.538</td>\n",
       "      <td>0.052</td>\n",
       "      <td>0.998</td>\n",
       "      <td>6.076</td>\n",
       "      <td>0.000</td>\n",
       "      <td>0.016</td>\n",
       "      <td>-0.985</td>\n",
       "      <td>1.627</td>\n",
       "    </tr>\n",
       "    <tr>\n",
       "      <th>18</th>\n",
       "      <td>19</td>\n",
       "      <td>54</td>\n",
       "      <td>0.000857</td>\n",
       "      <td>0.131</td>\n",
       "      <td>0.626</td>\n",
       "      <td>1</td>\n",
       "      <td>7.271</td>\n",
       "      <td>7.323</td>\n",
       "      <td>0.000</td>\n",
       "      <td>0.028</td>\n",
       "      <td>...</td>\n",
       "      <td>0.052</td>\n",
       "      <td>0.028</td>\n",
       "      <td>0.000</td>\n",
       "      <td>0.056</td>\n",
       "      <td>1.030</td>\n",
       "      <td>7.287</td>\n",
       "      <td>0.000</td>\n",
       "      <td>0.016</td>\n",
       "      <td>-0.983</td>\n",
       "      <td>1.752</td>\n",
       "    </tr>\n",
       "    <tr>\n",
       "      <th>...</th>\n",
       "      <td>...</td>\n",
       "      <td>...</td>\n",
       "      <td>...</td>\n",
       "      <td>...</td>\n",
       "      <td>...</td>\n",
       "      <td>...</td>\n",
       "      <td>...</td>\n",
       "      <td>...</td>\n",
       "      <td>...</td>\n",
       "      <td>...</td>\n",
       "      <td>...</td>\n",
       "      <td>...</td>\n",
       "      <td>...</td>\n",
       "      <td>...</td>\n",
       "      <td>...</td>\n",
       "      <td>...</td>\n",
       "      <td>...</td>\n",
       "      <td>...</td>\n",
       "      <td>...</td>\n",
       "      <td>...</td>\n",
       "      <td>...</td>\n",
       "    </tr>\n",
       "    <tr>\n",
       "      <th>1769</th>\n",
       "      <td>1770</td>\n",
       "      <td>238</td>\n",
       "      <td>0.004000</td>\n",
       "      <td>0.353</td>\n",
       "      <td>0.371</td>\n",
       "      <td>1</td>\n",
       "      <td>8.716</td>\n",
       "      <td>8.791</td>\n",
       "      <td>5.161</td>\n",
       "      <td>5.303</td>\n",
       "      <td>...</td>\n",
       "      <td>0.151</td>\n",
       "      <td>0.051</td>\n",
       "      <td>68.839</td>\n",
       "      <td>0.156</td>\n",
       "      <td>1.035</td>\n",
       "      <td>8.748</td>\n",
       "      <td>5.197</td>\n",
       "      <td>0.016</td>\n",
       "      <td>-0.978</td>\n",
       "      <td>4.952</td>\n",
       "    </tr>\n",
       "    <tr>\n",
       "      <th>2175</th>\n",
       "      <td>2176</td>\n",
       "      <td>99</td>\n",
       "      <td>0.002000</td>\n",
       "      <td>0.203</td>\n",
       "      <td>0.470</td>\n",
       "      <td>1</td>\n",
       "      <td>7.201</td>\n",
       "      <td>7.252</td>\n",
       "      <td>6.059</td>\n",
       "      <td>6.138</td>\n",
       "      <td>...</td>\n",
       "      <td>0.085</td>\n",
       "      <td>0.037</td>\n",
       "      <td>48.013</td>\n",
       "      <td>0.087</td>\n",
       "      <td>0.993</td>\n",
       "      <td>7.228</td>\n",
       "      <td>6.110</td>\n",
       "      <td>0.016</td>\n",
       "      <td>-0.984</td>\n",
       "      <td>2.777</td>\n",
       "    </tr>\n",
       "    <tr>\n",
       "      <th>2485</th>\n",
       "      <td>2486</td>\n",
       "      <td>500</td>\n",
       "      <td>0.008000</td>\n",
       "      <td>0.485</td>\n",
       "      <td>0.414</td>\n",
       "      <td>1</td>\n",
       "      <td>8.209</td>\n",
       "      <td>8.307</td>\n",
       "      <td>6.945</td>\n",
       "      <td>7.114</td>\n",
       "      <td>...</td>\n",
       "      <td>0.169</td>\n",
       "      <td>0.081</td>\n",
       "      <td>107.969</td>\n",
       "      <td>0.173</td>\n",
       "      <td>1.017</td>\n",
       "      <td>8.260</td>\n",
       "      <td>6.984</td>\n",
       "      <td>0.031</td>\n",
       "      <td>-0.968</td>\n",
       "      <td>2.751</td>\n",
       "    </tr>\n",
       "    <tr>\n",
       "      <th>2483</th>\n",
       "      <td>2484</td>\n",
       "      <td>300</td>\n",
       "      <td>0.005000</td>\n",
       "      <td>0.436</td>\n",
       "      <td>0.308</td>\n",
       "      <td>1</td>\n",
       "      <td>5.083</td>\n",
       "      <td>5.201</td>\n",
       "      <td>6.945</td>\n",
       "      <td>7.063</td>\n",
       "      <td>...</td>\n",
       "      <td>0.163</td>\n",
       "      <td>0.056</td>\n",
       "      <td>50.440</td>\n",
       "      <td>0.163</td>\n",
       "      <td>0.993</td>\n",
       "      <td>5.150</td>\n",
       "      <td>6.992</td>\n",
       "      <td>0.020</td>\n",
       "      <td>-0.979</td>\n",
       "      <td>4.141</td>\n",
       "    </tr>\n",
       "    <tr>\n",
       "      <th>256</th>\n",
       "      <td>257</td>\n",
       "      <td>139</td>\n",
       "      <td>0.002000</td>\n",
       "      <td>0.261</td>\n",
       "      <td>0.397</td>\n",
       "      <td>1</td>\n",
       "      <td>4.429</td>\n",
       "      <td>4.472</td>\n",
       "      <td>0.791</td>\n",
       "      <td>0.886</td>\n",
       "      <td>...</td>\n",
       "      <td>0.096</td>\n",
       "      <td>0.041</td>\n",
       "      <td>98.130</td>\n",
       "      <td>0.101</td>\n",
       "      <td>1.045</td>\n",
       "      <td>4.457</td>\n",
       "      <td>0.835</td>\n",
       "      <td>0.016</td>\n",
       "      <td>-0.981</td>\n",
       "      <td>3.202</td>\n",
       "    </tr>\n",
       "  </tbody>\n",
       "</table>\n",
       "<p>745 rows × 34 columns</p>\n",
       "</div>"
      ],
      "text/plain": [
       "      Label  PixelCount      Area  Perimeter  Circularity  EulerNumber  \\\n",
       "0         1          64  0.001000      0.165        0.466            1   \n",
       "1         2          75  0.001000      0.176        0.482            1   \n",
       "2         3          23  0.000365      0.090        0.563            1   \n",
       "11       12          71  0.001000      0.151        0.619            1   \n",
       "18       19          54  0.000857      0.131        0.626            1   \n",
       "...     ...         ...       ...        ...          ...          ...   \n",
       "1769   1770         238  0.004000      0.353        0.371            1   \n",
       "2175   2176          99  0.002000      0.203        0.470            1   \n",
       "2485   2486         500  0.008000      0.485        0.414            1   \n",
       "2483   2484         300  0.005000      0.436        0.308            1   \n",
       "256     257         139  0.002000      0.261        0.397            1   \n",
       "\n",
       "      Box.X.Min  Box.X.Max  Box.Y.Min  Box.Y.Max  ...  OBox.Length  \\\n",
       "0         1.534      1.562      0.000      0.056  ...        0.056   \n",
       "1         1.861      1.912      0.000      0.048  ...        0.070   \n",
       "2         2.211      2.251      0.000      0.012  ...        0.040   \n",
       "11        6.064      6.104      0.000      0.044  ...        0.048   \n",
       "18        7.271      7.323      0.000      0.028  ...        0.052   \n",
       "...         ...        ...        ...        ...  ...          ...   \n",
       "1769      8.716      8.791      5.161      5.303  ...        0.151   \n",
       "2175      7.201      7.252      6.059      6.138  ...        0.085   \n",
       "2485      8.209      8.307      6.945      7.114  ...        0.169   \n",
       "2483      5.083      5.201      6.945      7.063  ...        0.163   \n",
       "256       4.429      4.472      0.791      0.886  ...        0.096   \n",
       "\n",
       "      OBox.Width  OBox.Orientation  GeodesicDiameter  Tortuosity  \\\n",
       "0          0.028            90.000             0.062       0.998   \n",
       "1          0.036           131.634             0.071       1.007   \n",
       "2          0.012             0.000             0.041       1.036   \n",
       "11         0.037            80.538             0.052       0.998   \n",
       "18         0.028             0.000             0.056       1.030   \n",
       "...          ...               ...               ...         ...   \n",
       "1769       0.051            68.839             0.156       1.035   \n",
       "2175       0.037            48.013             0.087       0.993   \n",
       "2485       0.081           107.969             0.173       1.017   \n",
       "2483       0.056            50.440             0.163       0.993   \n",
       "256        0.041            98.130             0.101       1.045   \n",
       "\n",
       "      InscrDisc.Center.X  InscrDisc.Center.Y  InscrDisc.Radius  \\\n",
       "0                  1.546               0.000             0.012   \n",
       "1                  1.880               0.000             0.016   \n",
       "2                  2.227               0.000             0.012   \n",
       "11                 6.076               0.000             0.016   \n",
       "18                 7.287               0.000             0.016   \n",
       "...                  ...                 ...               ...   \n",
       "1769               8.748               5.197             0.016   \n",
       "2175               7.228               6.110             0.016   \n",
       "2485               8.260               6.984             0.031   \n",
       "2483               5.150               6.992             0.020   \n",
       "256                4.457               0.835             0.016   \n",
       "\n",
       "      AverageThickness  GeodesicElongation  \n",
       "0               -0.985               2.602  \n",
       "1               -0.983               2.227  \n",
       "2               -0.988               1.736  \n",
       "11              -0.985               1.627  \n",
       "18              -0.983               1.752  \n",
       "...                ...                 ...  \n",
       "1769            -0.978               4.952  \n",
       "2175            -0.984               2.777  \n",
       "2485            -0.968               2.751  \n",
       "2483            -0.979               4.141  \n",
       "256             -0.981               3.202  \n",
       "\n",
       "[745 rows x 34 columns]"
      ]
     },
     "execution_count": 48,
     "metadata": {},
     "output_type": "execute_result"
    }
   ],
   "source": [
    "dfA"
   ]
  }
 ],
 "metadata": {
  "kernelspec": {
   "display_name": "Python (ImageJEnv)",
   "language": "python",
   "name": "imagejenv"
  },
  "language_info": {
   "codemirror_mode": {
    "name": "ipython",
    "version": 3
   },
   "file_extension": ".py",
   "mimetype": "text/x-python",
   "name": "python",
   "nbconvert_exporter": "python",
   "pygments_lexer": "ipython3",
   "version": "3.9.23"
  }
 },
 "nbformat": 4,
 "nbformat_minor": 5
}
